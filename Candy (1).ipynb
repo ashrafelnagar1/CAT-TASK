{
 "cells": [
  {
   "cell_type": "code",
   "execution_count": 1,
   "metadata": {},
   "outputs": [],
   "source": [
    "#Importing liberaries\n",
    "import pandas as pd\n",
    "import numpy as np \n",
    "import matplotlib.pyplot as plt\n",
    "import seaborn as sns"
   ]
  },
  {
   "cell_type": "code",
   "execution_count": 2,
   "metadata": {},
   "outputs": [],
   "source": [
    "#Reading data\n",
    "df=pd.read_excel(r'C:\\Users\\ELHODA\\Downloads\\candyhierarchy2017.xlsx',na_values=[np.nan])"
   ]
  },
  {
   "cell_type": "code",
   "execution_count": 3,
   "metadata": {},
   "outputs": [
    {
     "data": {
      "text/html": [
       "<div>\n",
       "<style scoped>\n",
       "    .dataframe tbody tr th:only-of-type {\n",
       "        vertical-align: middle;\n",
       "    }\n",
       "\n",
       "    .dataframe tbody tr th {\n",
       "        vertical-align: top;\n",
       "    }\n",
       "\n",
       "    .dataframe thead th {\n",
       "        text-align: right;\n",
       "    }\n",
       "</style>\n",
       "<table border=\"1\" class=\"dataframe\">\n",
       "  <thead>\n",
       "    <tr style=\"text-align: right;\">\n",
       "      <th></th>\n",
       "      <th>Internal ID</th>\n",
       "      <th>Q1: GOING OUT?</th>\n",
       "      <th>Q2: GENDER</th>\n",
       "      <th>Q3: AGE</th>\n",
       "      <th>Q4: COUNTRY</th>\n",
       "      <th>Q5: STATE, PROVINCE, COUNTY, ETC</th>\n",
       "      <th>Q6 | 100 Grand Bar</th>\n",
       "      <th>Q6 | Anonymous brown globs that come in black and orange wrappers\\t(a.k.a. Mary Janes)</th>\n",
       "      <th>Q6 | Any full-sized candy bar</th>\n",
       "      <th>Q6 | Black Jacks</th>\n",
       "      <th>...</th>\n",
       "      <th>Q8: DESPAIR OTHER</th>\n",
       "      <th>Q9: OTHER COMMENTS</th>\n",
       "      <th>Q10: DRESS</th>\n",
       "      <th>Unnamed: 113</th>\n",
       "      <th>Q11: DAY</th>\n",
       "      <th>Q12: MEDIA [Daily Dish]</th>\n",
       "      <th>Q12: MEDIA [Science]</th>\n",
       "      <th>Q12: MEDIA [ESPN]</th>\n",
       "      <th>Q12: MEDIA [Yahoo]</th>\n",
       "      <th>Click Coordinates (x, y)</th>\n",
       "    </tr>\n",
       "  </thead>\n",
       "  <tbody>\n",
       "    <tr>\n",
       "      <td>0</td>\n",
       "      <td>90258773</td>\n",
       "      <td>NaN</td>\n",
       "      <td>NaN</td>\n",
       "      <td>NaN</td>\n",
       "      <td>NaN</td>\n",
       "      <td>NaN</td>\n",
       "      <td>NaN</td>\n",
       "      <td>NaN</td>\n",
       "      <td>NaN</td>\n",
       "      <td>NaN</td>\n",
       "      <td>...</td>\n",
       "      <td>NaN</td>\n",
       "      <td>NaN</td>\n",
       "      <td>NaN</td>\n",
       "      <td>NaN</td>\n",
       "      <td>NaN</td>\n",
       "      <td>NaN</td>\n",
       "      <td>NaN</td>\n",
       "      <td>NaN</td>\n",
       "      <td>NaN</td>\n",
       "      <td>NaN</td>\n",
       "    </tr>\n",
       "    <tr>\n",
       "      <td>1</td>\n",
       "      <td>90272821</td>\n",
       "      <td>No</td>\n",
       "      <td>Male</td>\n",
       "      <td>44</td>\n",
       "      <td>USA</td>\n",
       "      <td>NM</td>\n",
       "      <td>MEH</td>\n",
       "      <td>DESPAIR</td>\n",
       "      <td>JOY</td>\n",
       "      <td>MEH</td>\n",
       "      <td>...</td>\n",
       "      <td>NaN</td>\n",
       "      <td>Bottom line is Twix is really the only candy w...</td>\n",
       "      <td>White and gold</td>\n",
       "      <td>NaN</td>\n",
       "      <td>Sunday</td>\n",
       "      <td>NaN</td>\n",
       "      <td>1.0</td>\n",
       "      <td>NaN</td>\n",
       "      <td>NaN</td>\n",
       "      <td>(84, 25)</td>\n",
       "    </tr>\n",
       "    <tr>\n",
       "      <td>2</td>\n",
       "      <td>90272829</td>\n",
       "      <td>NaN</td>\n",
       "      <td>Male</td>\n",
       "      <td>49</td>\n",
       "      <td>USA</td>\n",
       "      <td>Virginia</td>\n",
       "      <td>NaN</td>\n",
       "      <td>NaN</td>\n",
       "      <td>NaN</td>\n",
       "      <td>NaN</td>\n",
       "      <td>...</td>\n",
       "      <td>NaN</td>\n",
       "      <td>NaN</td>\n",
       "      <td>NaN</td>\n",
       "      <td>NaN</td>\n",
       "      <td>NaN</td>\n",
       "      <td>NaN</td>\n",
       "      <td>NaN</td>\n",
       "      <td>NaN</td>\n",
       "      <td>NaN</td>\n",
       "      <td>NaN</td>\n",
       "    </tr>\n",
       "    <tr>\n",
       "      <td>3</td>\n",
       "      <td>90272840</td>\n",
       "      <td>No</td>\n",
       "      <td>Male</td>\n",
       "      <td>40</td>\n",
       "      <td>us</td>\n",
       "      <td>or</td>\n",
       "      <td>MEH</td>\n",
       "      <td>DESPAIR</td>\n",
       "      <td>JOY</td>\n",
       "      <td>MEH</td>\n",
       "      <td>...</td>\n",
       "      <td>NaN</td>\n",
       "      <td>Raisins can go to hell</td>\n",
       "      <td>White and gold</td>\n",
       "      <td>NaN</td>\n",
       "      <td>Sunday</td>\n",
       "      <td>NaN</td>\n",
       "      <td>1.0</td>\n",
       "      <td>NaN</td>\n",
       "      <td>NaN</td>\n",
       "      <td>(75, 23)</td>\n",
       "    </tr>\n",
       "    <tr>\n",
       "      <td>4</td>\n",
       "      <td>90272841</td>\n",
       "      <td>No</td>\n",
       "      <td>Male</td>\n",
       "      <td>23</td>\n",
       "      <td>usa</td>\n",
       "      <td>exton pa</td>\n",
       "      <td>JOY</td>\n",
       "      <td>DESPAIR</td>\n",
       "      <td>JOY</td>\n",
       "      <td>DESPAIR</td>\n",
       "      <td>...</td>\n",
       "      <td>NaN</td>\n",
       "      <td>NaN</td>\n",
       "      <td>White and gold</td>\n",
       "      <td>NaN</td>\n",
       "      <td>Friday</td>\n",
       "      <td>NaN</td>\n",
       "      <td>1.0</td>\n",
       "      <td>NaN</td>\n",
       "      <td>NaN</td>\n",
       "      <td>(70, 10)</td>\n",
       "    </tr>\n",
       "  </tbody>\n",
       "</table>\n",
       "<p>5 rows × 120 columns</p>\n",
       "</div>"
      ],
      "text/plain": [
       "   Internal ID Q1: GOING OUT? Q2: GENDER Q3: AGE Q4: COUNTRY  \\\n",
       "0     90258773            NaN        NaN     NaN         NaN   \n",
       "1     90272821             No       Male      44        USA    \n",
       "2     90272829            NaN       Male      49         USA   \n",
       "3     90272840             No       Male      40          us   \n",
       "4     90272841             No       Male      23         usa   \n",
       "\n",
       "  Q5: STATE, PROVINCE, COUNTY, ETC Q6 | 100 Grand Bar  \\\n",
       "0                              NaN                NaN   \n",
       "1                               NM                MEH   \n",
       "2                         Virginia                NaN   \n",
       "3                               or                MEH   \n",
       "4                         exton pa                JOY   \n",
       "\n",
       "  Q6 | Anonymous brown globs that come in black and orange wrappers\\t(a.k.a. Mary Janes)  \\\n",
       "0                                                NaN                                       \n",
       "1                                            DESPAIR                                       \n",
       "2                                                NaN                                       \n",
       "3                                            DESPAIR                                       \n",
       "4                                            DESPAIR                                       \n",
       "\n",
       "  Q6 | Any full-sized candy bar Q6 | Black Jacks  ... Q8: DESPAIR OTHER  \\\n",
       "0                           NaN              NaN  ...               NaN   \n",
       "1                           JOY              MEH  ...               NaN   \n",
       "2                           NaN              NaN  ...               NaN   \n",
       "3                           JOY              MEH  ...               NaN   \n",
       "4                           JOY          DESPAIR  ...               NaN   \n",
       "\n",
       "                                  Q9: OTHER COMMENTS      Q10: DRESS  \\\n",
       "0                                                NaN             NaN   \n",
       "1  Bottom line is Twix is really the only candy w...  White and gold   \n",
       "2                                                NaN             NaN   \n",
       "3                             Raisins can go to hell  White and gold   \n",
       "4                                                NaN  White and gold   \n",
       "\n",
       "  Unnamed: 113 Q11: DAY Q12: MEDIA [Daily Dish] Q12: MEDIA [Science]  \\\n",
       "0          NaN      NaN                     NaN                  NaN   \n",
       "1          NaN   Sunday                     NaN                  1.0   \n",
       "2          NaN      NaN                     NaN                  NaN   \n",
       "3          NaN   Sunday                     NaN                  1.0   \n",
       "4          NaN   Friday                     NaN                  1.0   \n",
       "\n",
       "  Q12: MEDIA [ESPN] Q12: MEDIA [Yahoo] Click Coordinates (x, y)  \n",
       "0               NaN                NaN                      NaN  \n",
       "1               NaN                NaN                 (84, 25)  \n",
       "2               NaN                NaN                      NaN  \n",
       "3               NaN                NaN                 (75, 23)  \n",
       "4               NaN                NaN                 (70, 10)  \n",
       "\n",
       "[5 rows x 120 columns]"
      ]
     },
     "execution_count": 3,
     "metadata": {},
     "output_type": "execute_result"
    }
   ],
   "source": [
    "df.head()"
   ]
  },
  {
   "cell_type": "markdown",
   "metadata": {},
   "source": [
    "# Data cleaning\n"
   ]
  },
  {
   "cell_type": "code",
   "execution_count": 4,
   "metadata": {},
   "outputs": [
    {
     "name": "stdout",
     "output_type": "stream",
     "text": [
      "<class 'pandas.core.frame.DataFrame'>\n",
      "RangeIndex: 2460 entries, 0 to 2459\n",
      "Data columns (total 120 columns):\n",
      "Internal ID                                                                              int64\n",
      "Q1: GOING OUT?                                                                           object\n",
      "Q2: GENDER                                                                               object\n",
      "Q3: AGE                                                                                  object\n",
      "Q4: COUNTRY                                                                              object\n",
      "Q5: STATE, PROVINCE, COUNTY, ETC                                                         object\n",
      "Q6 | 100 Grand Bar                                                                       object\n",
      "Q6 | Anonymous brown globs that come in black and orange wrappers\t(a.k.a. Mary Janes)    object\n",
      "Q6 | Any full-sized candy bar                                                            object\n",
      "Q6 | Black Jacks                                                                         object\n",
      "Q6 | Bonkers (the candy)                                                                 object\n",
      "Q6 | Bonkers (the board game)                                                            object\n",
      "Q6 | Bottle Caps                                                                         object\n",
      "Q6 | Box'o'Raisins                                                                       object\n",
      "Q6 | Broken glow stick                                                                   object\n",
      "Q6 | Butterfinger                                                                        object\n",
      "Q6 | Cadbury Creme Eggs                                                                  object\n",
      "Q6 | Candy Corn                                                                          object\n",
      "Q6 | Candy that is clearly just the stuff given out for free at restaurants              object\n",
      "Q6 | Caramellos                                                                          object\n",
      "Q6 | Cash, or other forms of legal tender                                                object\n",
      "Q6 | Chardonnay                                                                          object\n",
      "Q6 | Chick-o-Sticks (we don’t know what that is)                                         object\n",
      "Q6 | Chiclets                                                                            object\n",
      "Q6 | Coffee Crisp                                                                        object\n",
      "Q6 | Creepy Religious comics/Chick Tracts                                                object\n",
      "Q6 | Dental paraphenalia                                                                 object\n",
      "Q6 | Dots                                                                                object\n",
      "Q6 | Dove Bars                                                                           object\n",
      "Q6 | Fuzzy Peaches                                                                       object\n",
      "Q6 | Generic Brand Acetaminophen                                                         object\n",
      "Q6 | Glow sticks                                                                         object\n",
      "Q6 | Goo Goo Clusters                                                                    object\n",
      "Q6 | Good N' Plenty                                                                      object\n",
      "Q6 | Gum from baseball cards                                                             object\n",
      "Q6 | Gummy Bears straight up                                                             object\n",
      "Q6 | Hard Candy                                                                          object\n",
      "Q6 | Healthy Fruit                                                                       object\n",
      "Q6 | Heath Bar                                                                           object\n",
      "Q6 | Hershey's Dark Chocolate                                                            object\n",
      "Q6 | Hershey’s Milk Chocolate                                                            object\n",
      "Q6 | Hershey's Kisses                                                                    object\n",
      "Q6 | Hugs (actual physical hugs)                                                         object\n",
      "Q6 | Jolly Rancher (bad flavor)                                                          object\n",
      "Q6 | Jolly Ranchers (good flavor)                                                        object\n",
      "Q6 | JoyJoy (Mit Iodine!)                                                                object\n",
      "Q6 | Junior Mints                                                                        object\n",
      "Q6 | Senior Mints                                                                        object\n",
      "Q6 | Kale smoothie                                                                       object\n",
      "Q6 | Kinder Happy Hippo                                                                  object\n",
      "Q6 | Kit Kat                                                                             object\n",
      "Q6 | LaffyTaffy                                                                          object\n",
      "Q6 | LemonHeads                                                                          object\n",
      "Q6 | Licorice (not black)                                                                object\n",
      "Q6 | Licorice (yes black)                                                                object\n",
      "Q6 | Lindt Truffle                                                                       object\n",
      "Q6 | Lollipops                                                                           object\n",
      "Q6 | Mars                                                                                object\n",
      "Q6 | Maynards                                                                            object\n",
      "Q6 | Mike and Ike                                                                        object\n",
      "Q6 | Milk Duds                                                                           object\n",
      "Q6 | Milky Way                                                                           object\n",
      "Q6 | Regular M&Ms                                                                        object\n",
      "Q6 | Peanut M&M’s                                                                        object\n",
      "Q6 | Blue M&M's                                                                          object\n",
      "Q6 | Red M&M's                                                                           object\n",
      "Q6 | Green Party M&M's                                                                   object\n",
      "Q6 | Independent M&M's                                                                   object\n",
      "Q6 | Abstained from M&M'ing.                                                             object\n",
      "Q6 | Minibags of chips                                                                   object\n",
      "Q6 | Mint Kisses                                                                         object\n",
      "Q6 | Mint Juleps                                                                         object\n",
      "Q6 | Mr. Goodbar                                                                         object\n",
      "Q6 | Necco Wafers                                                                        object\n",
      "Q6 | Nerds                                                                               object\n",
      "Q6 | Nestle Crunch                                                                       object\n",
      "Q6 | Now'n'Laters                                                                        object\n",
      "Q6 | Peeps                                                                               object\n",
      "Q6 | Pencils                                                                             object\n",
      "Q6 | Pixy Stix                                                                           object\n",
      "Q6 | Real Housewives of Orange County Season 9 Blue-Ray                                  object\n",
      "Q6 | Reese’s Peanut Butter Cups                                                          object\n",
      "Q6 | Reese's Pieces                                                                      object\n",
      "Q6 | Reggie Jackson Bar                                                                  object\n",
      "Q6 | Rolos                                                                               object\n",
      "Q6 | Sandwich-sized bags filled with BooBerry Crunch                                     object\n",
      "Q6 | Skittles                                                                            object\n",
      "Q6 | Smarties (American)                                                                 object\n",
      "Q6 | Smarties (Commonwealth)                                                             object\n",
      "Q6 | Snickers                                                                            object\n",
      "Q6 | Sourpatch Kids (i.e. abominations of nature)                                        object\n",
      "Q6 | Spotted Dick                                                                        object\n",
      "Q6 | Starburst                                                                           object\n",
      "Q6 | Sweet Tarts                                                                         object\n",
      "Q6 | Swedish Fish                                                                        object\n",
      "Q6 | Sweetums (a friend to diabetes)                                                     object\n",
      "Q6 | Take 5                                                                              object\n",
      "Q6 | Tic Tacs                                                                            object\n",
      "Q6 | Those odd marshmallow circus peanut things                                          object\n",
      "Q6 | Three Musketeers                                                                    object\n",
      "Q6 | Tolberone something or other                                                        object\n",
      "Q6 | Trail Mix                                                                           object\n",
      "Q6 | Twix                                                                                object\n",
      "Q6 | Vials of pure high fructose corn syrup, for main-lining into your vein              object\n",
      "Q6 | Vicodin                                                                             object\n",
      "Q6 | Whatchamacallit Bars                                                                object\n",
      "Q6 | White Bread                                                                         object\n",
      "Q6 | Whole Wheat anything                                                                object\n",
      "Q6 | York Peppermint Patties                                                             object\n",
      "Q7: JOY OTHER                                                                            object\n",
      "Q8: DESPAIR OTHER                                                                        object\n",
      "Q9: OTHER COMMENTS                                                                       object\n",
      "Q10: DRESS                                                                               object\n",
      "Unnamed: 113                                                                             object\n",
      "Q11: DAY                                                                                 object\n",
      "Q12: MEDIA [Daily Dish]                                                                  float64\n",
      "Q12: MEDIA [Science]                                                                     float64\n",
      "Q12: MEDIA [ESPN]                                                                        float64\n",
      "Q12: MEDIA [Yahoo]                                                                       float64\n",
      "Click Coordinates (x, y)                                                                 object\n",
      "dtypes: float64(4), int64(1), object(115)\n",
      "memory usage: 2.3+ MB\n"
     ]
    }
   ],
   "source": [
    "df.info(120)"
   ]
  },
  {
   "cell_type": "code",
   "execution_count": 5,
   "metadata": {},
   "outputs": [
    {
     "data": {
      "text/plain": [
       "(2460, 120)"
      ]
     },
     "execution_count": 5,
     "metadata": {},
     "output_type": "execute_result"
    }
   ],
   "source": [
    "df.shape"
   ]
  },
  {
   "cell_type": "code",
   "execution_count": 6,
   "metadata": {},
   "outputs": [
    {
     "data": {
      "text/plain": [
       "Index(['Internal ID', 'Q1: GOING OUT?', 'Q2: GENDER', 'Q3: AGE', 'Q4: COUNTRY',\n",
       "       'Q5: STATE, PROVINCE, COUNTY, ETC', 'Q6 | 100 Grand Bar',\n",
       "       'Q6 | Anonymous brown globs that come in black and orange wrappers\\t(a.k.a. Mary Janes)',\n",
       "       'Q6 | Any full-sized candy bar', 'Q6 | Black Jacks',\n",
       "       ...\n",
       "       'Q8: DESPAIR OTHER', 'Q9: OTHER COMMENTS', 'Q10: DRESS', 'Unnamed: 113',\n",
       "       'Q11: DAY', 'Q12: MEDIA [Daily Dish]', 'Q12: MEDIA [Science]',\n",
       "       'Q12: MEDIA [ESPN]', 'Q12: MEDIA [Yahoo]', 'Click Coordinates (x, y)'],\n",
       "      dtype='object', length=120)"
      ]
     },
     "execution_count": 6,
     "metadata": {},
     "output_type": "execute_result"
    }
   ],
   "source": [
    "df.columns"
   ]
  },
  {
   "cell_type": "code",
   "execution_count": 7,
   "metadata": {},
   "outputs": [],
   "source": [
    "df2=df"
   ]
  },
  {
   "cell_type": "code",
   "execution_count": 8,
   "metadata": {},
   "outputs": [],
   "source": [
    "df2.drop(['Unnamed: 113','Click Coordinates (x, y)','Internal ID','Q5: STATE, PROVINCE, COUNTY, ETC'] ,axis=1,inplace=True)"
   ]
  },
  {
   "cell_type": "code",
   "execution_count": 9,
   "metadata": {},
   "outputs": [],
   "source": [
    "df2.columns = df2.columns.str[3:]"
   ]
  },
  {
   "cell_type": "code",
   "execution_count": 10,
   "metadata": {},
   "outputs": [
    {
     "data": {
      "text/html": [
       "<div>\n",
       "<style scoped>\n",
       "    .dataframe tbody tr th:only-of-type {\n",
       "        vertical-align: middle;\n",
       "    }\n",
       "\n",
       "    .dataframe tbody tr th {\n",
       "        vertical-align: top;\n",
       "    }\n",
       "\n",
       "    .dataframe thead th {\n",
       "        text-align: right;\n",
       "    }\n",
       "</style>\n",
       "<table border=\"1\" class=\"dataframe\">\n",
       "  <thead>\n",
       "    <tr style=\"text-align: right;\">\n",
       "      <th></th>\n",
       "      <th>GOING OUT?</th>\n",
       "      <th>GENDER</th>\n",
       "      <th>AGE</th>\n",
       "      <th>COUNTRY</th>\n",
       "      <th>| 100 Grand Bar</th>\n",
       "      <th>| Anonymous brown globs that come in black and orange wrappers\\t(a.k.a. Mary Janes)</th>\n",
       "      <th>| Any full-sized candy bar</th>\n",
       "      <th>| Black Jacks</th>\n",
       "      <th>| Bonkers (the candy)</th>\n",
       "      <th>| Bonkers (the board game)</th>\n",
       "      <th>...</th>\n",
       "      <th>| York Peppermint Patties</th>\n",
       "      <th>JOY OTHER</th>\n",
       "      <th>DESPAIR OTHER</th>\n",
       "      <th>OTHER COMMENTS</th>\n",
       "      <th>: DRESS</th>\n",
       "      <th>: DAY</th>\n",
       "      <th>: MEDIA [Daily Dish]</th>\n",
       "      <th>: MEDIA [Science]</th>\n",
       "      <th>: MEDIA [ESPN]</th>\n",
       "      <th>: MEDIA [Yahoo]</th>\n",
       "    </tr>\n",
       "  </thead>\n",
       "  <tbody>\n",
       "    <tr>\n",
       "      <td>0</td>\n",
       "      <td>NaN</td>\n",
       "      <td>NaN</td>\n",
       "      <td>NaN</td>\n",
       "      <td>NaN</td>\n",
       "      <td>NaN</td>\n",
       "      <td>NaN</td>\n",
       "      <td>NaN</td>\n",
       "      <td>NaN</td>\n",
       "      <td>NaN</td>\n",
       "      <td>NaN</td>\n",
       "      <td>...</td>\n",
       "      <td>NaN</td>\n",
       "      <td>NaN</td>\n",
       "      <td>NaN</td>\n",
       "      <td>NaN</td>\n",
       "      <td>NaN</td>\n",
       "      <td>NaN</td>\n",
       "      <td>NaN</td>\n",
       "      <td>NaN</td>\n",
       "      <td>NaN</td>\n",
       "      <td>NaN</td>\n",
       "    </tr>\n",
       "    <tr>\n",
       "      <td>1</td>\n",
       "      <td>No</td>\n",
       "      <td>Male</td>\n",
       "      <td>44</td>\n",
       "      <td>USA</td>\n",
       "      <td>MEH</td>\n",
       "      <td>DESPAIR</td>\n",
       "      <td>JOY</td>\n",
       "      <td>MEH</td>\n",
       "      <td>DESPAIR</td>\n",
       "      <td>DESPAIR</td>\n",
       "      <td>...</td>\n",
       "      <td>DESPAIR</td>\n",
       "      <td>Mounds</td>\n",
       "      <td>NaN</td>\n",
       "      <td>Bottom line is Twix is really the only candy w...</td>\n",
       "      <td>White and gold</td>\n",
       "      <td>Sunday</td>\n",
       "      <td>NaN</td>\n",
       "      <td>1.0</td>\n",
       "      <td>NaN</td>\n",
       "      <td>NaN</td>\n",
       "    </tr>\n",
       "    <tr>\n",
       "      <td>2</td>\n",
       "      <td>NaN</td>\n",
       "      <td>Male</td>\n",
       "      <td>49</td>\n",
       "      <td>USA</td>\n",
       "      <td>NaN</td>\n",
       "      <td>NaN</td>\n",
       "      <td>NaN</td>\n",
       "      <td>NaN</td>\n",
       "      <td>NaN</td>\n",
       "      <td>NaN</td>\n",
       "      <td>...</td>\n",
       "      <td>NaN</td>\n",
       "      <td>NaN</td>\n",
       "      <td>NaN</td>\n",
       "      <td>NaN</td>\n",
       "      <td>NaN</td>\n",
       "      <td>NaN</td>\n",
       "      <td>NaN</td>\n",
       "      <td>NaN</td>\n",
       "      <td>NaN</td>\n",
       "      <td>NaN</td>\n",
       "    </tr>\n",
       "    <tr>\n",
       "      <td>3</td>\n",
       "      <td>No</td>\n",
       "      <td>Male</td>\n",
       "      <td>40</td>\n",
       "      <td>us</td>\n",
       "      <td>MEH</td>\n",
       "      <td>DESPAIR</td>\n",
       "      <td>JOY</td>\n",
       "      <td>MEH</td>\n",
       "      <td>MEH</td>\n",
       "      <td>DESPAIR</td>\n",
       "      <td>...</td>\n",
       "      <td>DESPAIR</td>\n",
       "      <td>Reese's crispy crunchy bars, 5th avenue bars, ...</td>\n",
       "      <td>NaN</td>\n",
       "      <td>Raisins can go to hell</td>\n",
       "      <td>White and gold</td>\n",
       "      <td>Sunday</td>\n",
       "      <td>NaN</td>\n",
       "      <td>1.0</td>\n",
       "      <td>NaN</td>\n",
       "      <td>NaN</td>\n",
       "    </tr>\n",
       "    <tr>\n",
       "      <td>4</td>\n",
       "      <td>No</td>\n",
       "      <td>Male</td>\n",
       "      <td>23</td>\n",
       "      <td>usa</td>\n",
       "      <td>JOY</td>\n",
       "      <td>DESPAIR</td>\n",
       "      <td>JOY</td>\n",
       "      <td>DESPAIR</td>\n",
       "      <td>MEH</td>\n",
       "      <td>DESPAIR</td>\n",
       "      <td>...</td>\n",
       "      <td>JOY</td>\n",
       "      <td>NaN</td>\n",
       "      <td>NaN</td>\n",
       "      <td>NaN</td>\n",
       "      <td>White and gold</td>\n",
       "      <td>Friday</td>\n",
       "      <td>NaN</td>\n",
       "      <td>1.0</td>\n",
       "      <td>NaN</td>\n",
       "      <td>NaN</td>\n",
       "    </tr>\n",
       "  </tbody>\n",
       "</table>\n",
       "<p>5 rows × 116 columns</p>\n",
       "</div>"
      ],
      "text/plain": [
       "   GOING OUT?  GENDER  AGE  COUNTRY | 100 Grand Bar  \\\n",
       "0         NaN     NaN  NaN      NaN             NaN   \n",
       "1          No    Male   44     USA              MEH   \n",
       "2         NaN    Male   49      USA             NaN   \n",
       "3          No    Male   40       us             MEH   \n",
       "4          No    Male   23      usa             JOY   \n",
       "\n",
       "  | Anonymous brown globs that come in black and orange wrappers\\t(a.k.a. Mary Janes)  \\\n",
       "0                                                NaN                                    \n",
       "1                                            DESPAIR                                    \n",
       "2                                                NaN                                    \n",
       "3                                            DESPAIR                                    \n",
       "4                                            DESPAIR                                    \n",
       "\n",
       "  | Any full-sized candy bar | Black Jacks | Bonkers (the candy)  \\\n",
       "0                        NaN           NaN                   NaN   \n",
       "1                        JOY           MEH               DESPAIR   \n",
       "2                        NaN           NaN                   NaN   \n",
       "3                        JOY           MEH                   MEH   \n",
       "4                        JOY       DESPAIR                   MEH   \n",
       "\n",
       "  | Bonkers (the board game)  ... | York Peppermint Patties  \\\n",
       "0                        NaN  ...                       NaN   \n",
       "1                    DESPAIR  ...                   DESPAIR   \n",
       "2                        NaN  ...                       NaN   \n",
       "3                    DESPAIR  ...                   DESPAIR   \n",
       "4                    DESPAIR  ...                       JOY   \n",
       "\n",
       "                                           JOY OTHER  DESPAIR OTHER  \\\n",
       "0                                                NaN            NaN   \n",
       "1                                             Mounds            NaN   \n",
       "2                                                NaN            NaN   \n",
       "3  Reese's crispy crunchy bars, 5th avenue bars, ...            NaN   \n",
       "4                                                NaN            NaN   \n",
       "\n",
       "                                      OTHER COMMENTS         : DRESS   : DAY  \\\n",
       "0                                                NaN             NaN     NaN   \n",
       "1  Bottom line is Twix is really the only candy w...  White and gold  Sunday   \n",
       "2                                                NaN             NaN     NaN   \n",
       "3                             Raisins can go to hell  White and gold  Sunday   \n",
       "4                                                NaN  White and gold  Friday   \n",
       "\n",
       "  : MEDIA [Daily Dish] : MEDIA [Science] : MEDIA [ESPN] : MEDIA [Yahoo]  \n",
       "0                  NaN               NaN            NaN             NaN  \n",
       "1                  NaN               1.0            NaN             NaN  \n",
       "2                  NaN               NaN            NaN             NaN  \n",
       "3                  NaN               1.0            NaN             NaN  \n",
       "4                  NaN               1.0            NaN             NaN  \n",
       "\n",
       "[5 rows x 116 columns]"
      ]
     },
     "execution_count": 10,
     "metadata": {},
     "output_type": "execute_result"
    }
   ],
   "source": [
    "df2.head()"
   ]
  },
  {
   "cell_type": "code",
   "execution_count": 11,
   "metadata": {},
   "outputs": [],
   "source": [
    "df2.columns=df2.columns.str.replace('|','')"
   ]
  },
  {
   "cell_type": "code",
   "execution_count": 12,
   "metadata": {},
   "outputs": [],
   "source": [
    "df2.columns=df2.columns.str.replace(':','')"
   ]
  },
  {
   "cell_type": "code",
   "execution_count": 13,
   "metadata": {},
   "outputs": [],
   "source": [
    "df=df2"
   ]
  },
  {
   "cell_type": "code",
   "execution_count": 14,
   "metadata": {},
   "outputs": [
    {
     "data": {
      "text/html": [
       "<div>\n",
       "<style scoped>\n",
       "    .dataframe tbody tr th:only-of-type {\n",
       "        vertical-align: middle;\n",
       "    }\n",
       "\n",
       "    .dataframe tbody tr th {\n",
       "        vertical-align: top;\n",
       "    }\n",
       "\n",
       "    .dataframe thead th {\n",
       "        text-align: right;\n",
       "    }\n",
       "</style>\n",
       "<table border=\"1\" class=\"dataframe\">\n",
       "  <thead>\n",
       "    <tr style=\"text-align: right;\">\n",
       "      <th></th>\n",
       "      <th>GOING OUT?</th>\n",
       "      <th>GENDER</th>\n",
       "      <th>AGE</th>\n",
       "      <th>COUNTRY</th>\n",
       "      <th>100 Grand Bar</th>\n",
       "      <th>Anonymous brown globs that come in black and orange wrappers\\t(a.k.a. Mary Janes)</th>\n",
       "      <th>Any full-sized candy bar</th>\n",
       "      <th>Black Jacks</th>\n",
       "      <th>Bonkers (the candy)</th>\n",
       "      <th>Bonkers (the board game)</th>\n",
       "      <th>...</th>\n",
       "      <th>York Peppermint Patties</th>\n",
       "      <th>JOY OTHER</th>\n",
       "      <th>DESPAIR OTHER</th>\n",
       "      <th>OTHER COMMENTS</th>\n",
       "      <th>DRESS</th>\n",
       "      <th>DAY</th>\n",
       "      <th>MEDIA [Daily Dish]</th>\n",
       "      <th>MEDIA [Science]</th>\n",
       "      <th>MEDIA [ESPN]</th>\n",
       "      <th>MEDIA [Yahoo]</th>\n",
       "    </tr>\n",
       "  </thead>\n",
       "  <tbody>\n",
       "    <tr>\n",
       "      <td>0</td>\n",
       "      <td>NaN</td>\n",
       "      <td>NaN</td>\n",
       "      <td>NaN</td>\n",
       "      <td>NaN</td>\n",
       "      <td>NaN</td>\n",
       "      <td>NaN</td>\n",
       "      <td>NaN</td>\n",
       "      <td>NaN</td>\n",
       "      <td>NaN</td>\n",
       "      <td>NaN</td>\n",
       "      <td>...</td>\n",
       "      <td>NaN</td>\n",
       "      <td>NaN</td>\n",
       "      <td>NaN</td>\n",
       "      <td>NaN</td>\n",
       "      <td>NaN</td>\n",
       "      <td>NaN</td>\n",
       "      <td>NaN</td>\n",
       "      <td>NaN</td>\n",
       "      <td>NaN</td>\n",
       "      <td>NaN</td>\n",
       "    </tr>\n",
       "    <tr>\n",
       "      <td>1</td>\n",
       "      <td>No</td>\n",
       "      <td>Male</td>\n",
       "      <td>44</td>\n",
       "      <td>USA</td>\n",
       "      <td>MEH</td>\n",
       "      <td>DESPAIR</td>\n",
       "      <td>JOY</td>\n",
       "      <td>MEH</td>\n",
       "      <td>DESPAIR</td>\n",
       "      <td>DESPAIR</td>\n",
       "      <td>...</td>\n",
       "      <td>DESPAIR</td>\n",
       "      <td>Mounds</td>\n",
       "      <td>NaN</td>\n",
       "      <td>Bottom line is Twix is really the only candy w...</td>\n",
       "      <td>White and gold</td>\n",
       "      <td>Sunday</td>\n",
       "      <td>NaN</td>\n",
       "      <td>1.0</td>\n",
       "      <td>NaN</td>\n",
       "      <td>NaN</td>\n",
       "    </tr>\n",
       "    <tr>\n",
       "      <td>2</td>\n",
       "      <td>NaN</td>\n",
       "      <td>Male</td>\n",
       "      <td>49</td>\n",
       "      <td>USA</td>\n",
       "      <td>NaN</td>\n",
       "      <td>NaN</td>\n",
       "      <td>NaN</td>\n",
       "      <td>NaN</td>\n",
       "      <td>NaN</td>\n",
       "      <td>NaN</td>\n",
       "      <td>...</td>\n",
       "      <td>NaN</td>\n",
       "      <td>NaN</td>\n",
       "      <td>NaN</td>\n",
       "      <td>NaN</td>\n",
       "      <td>NaN</td>\n",
       "      <td>NaN</td>\n",
       "      <td>NaN</td>\n",
       "      <td>NaN</td>\n",
       "      <td>NaN</td>\n",
       "      <td>NaN</td>\n",
       "    </tr>\n",
       "    <tr>\n",
       "      <td>3</td>\n",
       "      <td>No</td>\n",
       "      <td>Male</td>\n",
       "      <td>40</td>\n",
       "      <td>us</td>\n",
       "      <td>MEH</td>\n",
       "      <td>DESPAIR</td>\n",
       "      <td>JOY</td>\n",
       "      <td>MEH</td>\n",
       "      <td>MEH</td>\n",
       "      <td>DESPAIR</td>\n",
       "      <td>...</td>\n",
       "      <td>DESPAIR</td>\n",
       "      <td>Reese's crispy crunchy bars, 5th avenue bars, ...</td>\n",
       "      <td>NaN</td>\n",
       "      <td>Raisins can go to hell</td>\n",
       "      <td>White and gold</td>\n",
       "      <td>Sunday</td>\n",
       "      <td>NaN</td>\n",
       "      <td>1.0</td>\n",
       "      <td>NaN</td>\n",
       "      <td>NaN</td>\n",
       "    </tr>\n",
       "    <tr>\n",
       "      <td>4</td>\n",
       "      <td>No</td>\n",
       "      <td>Male</td>\n",
       "      <td>23</td>\n",
       "      <td>usa</td>\n",
       "      <td>JOY</td>\n",
       "      <td>DESPAIR</td>\n",
       "      <td>JOY</td>\n",
       "      <td>DESPAIR</td>\n",
       "      <td>MEH</td>\n",
       "      <td>DESPAIR</td>\n",
       "      <td>...</td>\n",
       "      <td>JOY</td>\n",
       "      <td>NaN</td>\n",
       "      <td>NaN</td>\n",
       "      <td>NaN</td>\n",
       "      <td>White and gold</td>\n",
       "      <td>Friday</td>\n",
       "      <td>NaN</td>\n",
       "      <td>1.0</td>\n",
       "      <td>NaN</td>\n",
       "      <td>NaN</td>\n",
       "    </tr>\n",
       "  </tbody>\n",
       "</table>\n",
       "<p>5 rows × 116 columns</p>\n",
       "</div>"
      ],
      "text/plain": [
       "   GOING OUT?  GENDER  AGE  COUNTRY  100 Grand Bar  \\\n",
       "0         NaN     NaN  NaN      NaN            NaN   \n",
       "1          No    Male   44     USA             MEH   \n",
       "2         NaN    Male   49      USA            NaN   \n",
       "3          No    Male   40       us            MEH   \n",
       "4          No    Male   23      usa            JOY   \n",
       "\n",
       "   Anonymous brown globs that come in black and orange wrappers\\t(a.k.a. Mary Janes)  \\\n",
       "0                                                NaN                                   \n",
       "1                                            DESPAIR                                   \n",
       "2                                                NaN                                   \n",
       "3                                            DESPAIR                                   \n",
       "4                                            DESPAIR                                   \n",
       "\n",
       "   Any full-sized candy bar  Black Jacks  Bonkers (the candy)  \\\n",
       "0                       NaN          NaN                  NaN   \n",
       "1                       JOY          MEH              DESPAIR   \n",
       "2                       NaN          NaN                  NaN   \n",
       "3                       JOY          MEH                  MEH   \n",
       "4                       JOY      DESPAIR                  MEH   \n",
       "\n",
       "   Bonkers (the board game)  ...  York Peppermint Patties  \\\n",
       "0                       NaN  ...                      NaN   \n",
       "1                   DESPAIR  ...                  DESPAIR   \n",
       "2                       NaN  ...                      NaN   \n",
       "3                   DESPAIR  ...                  DESPAIR   \n",
       "4                   DESPAIR  ...                      JOY   \n",
       "\n",
       "                                           JOY OTHER  DESPAIR OTHER  \\\n",
       "0                                                NaN            NaN   \n",
       "1                                             Mounds            NaN   \n",
       "2                                                NaN            NaN   \n",
       "3  Reese's crispy crunchy bars, 5th avenue bars, ...            NaN   \n",
       "4                                                NaN            NaN   \n",
       "\n",
       "                                      OTHER COMMENTS           DRESS     DAY  \\\n",
       "0                                                NaN             NaN     NaN   \n",
       "1  Bottom line is Twix is really the only candy w...  White and gold  Sunday   \n",
       "2                                                NaN             NaN     NaN   \n",
       "3                             Raisins can go to hell  White and gold  Sunday   \n",
       "4                                                NaN  White and gold  Friday   \n",
       "\n",
       "   MEDIA [Daily Dish]  MEDIA [Science]  MEDIA [ESPN]  MEDIA [Yahoo]  \n",
       "0                 NaN              NaN           NaN            NaN  \n",
       "1                 NaN              1.0           NaN            NaN  \n",
       "2                 NaN              NaN           NaN            NaN  \n",
       "3                 NaN              1.0           NaN            NaN  \n",
       "4                 NaN              1.0           NaN            NaN  \n",
       "\n",
       "[5 rows x 116 columns]"
      ]
     },
     "execution_count": 14,
     "metadata": {},
     "output_type": "execute_result"
    }
   ],
   "source": [
    "df.head()"
   ]
  },
  {
   "cell_type": "code",
   "execution_count": 15,
   "metadata": {},
   "outputs": [],
   "source": [
    "df.columns = df.columns.str[1:]\n"
   ]
  },
  {
   "cell_type": "code",
   "execution_count": 16,
   "metadata": {},
   "outputs": [
    {
     "data": {
      "text/plain": [
       "MEDIA [Yahoo]         2393\n",
       "MEDIA [Daily Dish]    2375\n",
       "MEDIA [ESPN]          2361\n",
       "OTHER COMMENTS        2074\n",
       "DESPAIR OTHER         1743\n",
       "                      ... \n",
       "Peanut M&M’s           671\n",
       "GOING OUT?             110\n",
       "AGE                     84\n",
       "COUNTRY                 64\n",
       "GENDER                  41\n",
       "Length: 116, dtype: int64"
      ]
     },
     "execution_count": 16,
     "metadata": {},
     "output_type": "execute_result"
    }
   ],
   "source": [
    "df.isna().sum().sort_values(ascending=False)"
   ]
  },
  {
   "cell_type": "code",
   "execution_count": 17,
   "metadata": {},
   "outputs": [],
   "source": [
    "# Removing some columns that have > 28% nan values\n",
    "max_nans=len(df)*0.28\n",
    "df=df.loc[:, (df.isnull().sum(axis=0) <= max_nans)]\n"
   ]
  },
  {
   "cell_type": "code",
   "execution_count": 18,
   "metadata": {},
   "outputs": [
    {
     "data": {
      "text/plain": [
       "GOING OUT?                              110\n",
       "GENDER                                   41\n",
       "AGE                                      84\n",
       "COUNTRY                                  64\n",
       "Any full-sized candy bar                672\n",
       "Box'o'Raisins                           688\n",
       "Butterfinger                            682\n",
       "Cadbury Creme Eggs                      683\n",
       "Candy Corn                              678\n",
       "Cash, or other forms of legal tender    680\n",
       "Hershey's Dark Chocolate                673\n",
       "Hershey’s Milk Chocolate                672\n",
       "Hershey's Kisses                        678\n",
       "Kit Kat                                 674\n",
       "Licorice (not black)                    686\n",
       "Licorice (yes black)                    685\n",
       "Milky Way                               688\n",
       "Regular M&Ms                            675\n",
       "Peanut M&M’s                            671\n",
       "Reese’s Peanut Butter Cups              679\n",
       "dtype: int64"
      ]
     },
     "execution_count": 18,
     "metadata": {},
     "output_type": "execute_result"
    }
   ],
   "source": [
    "df.isna().sum()"
   ]
  },
  {
   "cell_type": "code",
   "execution_count": 19,
   "metadata": {},
   "outputs": [
    {
     "data": {
      "text/plain": [
       "(2460, 20)"
      ]
     },
     "execution_count": 19,
     "metadata": {},
     "output_type": "execute_result"
    }
   ],
   "source": [
    "df.shape"
   ]
  },
  {
   "cell_type": "code",
   "execution_count": 20,
   "metadata": {},
   "outputs": [
    {
     "name": "stderr",
     "output_type": "stream",
     "text": [
      "C:\\Users\\ELHODA\\Anaconda3\\lib\\site-packages\\ipykernel_launcher.py:3: SettingWithCopyWarning: \n",
      "A value is trying to be set on a copy of a slice from a DataFrame.\n",
      "Try using .loc[row_indexer,col_indexer] = value instead\n",
      "\n",
      "See the caveats in the documentation: http://pandas.pydata.org/pandas-docs/stable/user_guide/indexing.html#returning-a-view-versus-a-copy\n",
      "  This is separate from the ipykernel package so we can avoid doing imports until\n"
     ]
    }
   ],
   "source": [
    "#Replace Categorical missing values with mode\n",
    "for i in df.columns:\n",
    "    df[i]=df[i].replace(np.nan,df[i].mode()[0])"
   ]
  },
  {
   "cell_type": "code",
   "execution_count": 21,
   "metadata": {},
   "outputs": [
    {
     "data": {
      "text/plain": [
       "GOING OUT?                              0\n",
       "GENDER                                  0\n",
       "AGE                                     0\n",
       "COUNTRY                                 0\n",
       "Any full-sized candy bar                0\n",
       "Box'o'Raisins                           0\n",
       "Butterfinger                            0\n",
       "Cadbury Creme Eggs                      0\n",
       "Candy Corn                              0\n",
       "Cash, or other forms of legal tender    0\n",
       "Hershey's Dark Chocolate                0\n",
       "Hershey’s Milk Chocolate                0\n",
       "Hershey's Kisses                        0\n",
       "Kit Kat                                 0\n",
       "Licorice (not black)                    0\n",
       "Licorice (yes black)                    0\n",
       "Milky Way                               0\n",
       "Regular M&Ms                            0\n",
       "Peanut M&M’s                            0\n",
       "Reese’s Peanut Butter Cups              0\n",
       "dtype: int64"
      ]
     },
     "execution_count": 21,
     "metadata": {},
     "output_type": "execute_result"
    }
   ],
   "source": [
    "df.isna().sum()"
   ]
  },
  {
   "cell_type": "code",
   "execution_count": 22,
   "metadata": {},
   "outputs": [],
   "source": [
    "df=df.apply(lambda x: x.astype(str).str.lower())"
   ]
  },
  {
   "cell_type": "code",
   "execution_count": 23,
   "metadata": {},
   "outputs": [
    {
     "data": {
      "text/plain": [
       "array(['usa', 'usa ', 'us', 'canada', 'murica', 'united states', 'uk',\n",
       "       'united kingdom', 'united states ', 'united staes',\n",
       "       'united states of america', 'uae', 'england', 'canada ', 'mexico',\n",
       "       'u.s.a.', 'usausausa', 'america', '35', 'france',\n",
       "       'united states of america ', 'finland', 'unhinged states',\n",
       "       'us of a', 'unites states', 'the united states', 'north carolina ',\n",
       "       'unied states', 'netherlands', 'germany', 'europe', 'earth', 'u s',\n",
       "       'u.s.', 'u.k. ', 'costa rica', 'the united states of america',\n",
       "       'unite states', '46', 'cascadia', 'australia', 'insanity lately',\n",
       "       'greece', 'usa? hard to tell anymore..', \"'merica\", 'usas',\n",
       "       'pittsburgh', '45', 'united state', '32', 'a', 'can', 'canae',\n",
       "       'new york', 'trumpistan', 'ireland', 'united sates', 'korea',\n",
       "       'california', 'japan', 'south africa',\n",
       "       'i pretend to be from canada, but i am really from the united states.',\n",
       "       'iceland', 'canada`', 'scotland', 'uk ', 'denmark',\n",
       "       'united stated', 'france ', 'switzerland', 'ahem....amerca', 'ud',\n",
       "       'scotland ', 'south korea', 'new jersey', 'indonesia',\n",
       "       'united ststes', 'the netherlands', 'united statss', 'endland',\n",
       "       'atlantis', 'murrika', 'usa! usa! usa!', 'usaa', 'alaska',\n",
       "       'soviet canuckistan', 'n. america', 'singapore', 'ussa', 'china',\n",
       "       'taiwan', 'ireland ', 'hong kong', 'spain', 'sweden', 'u.s. ',\n",
       "       'narnia', 'u s a', 'united statea', '1',\n",
       "       'subscribe to dm4uz3 on youtube', 'usa usa usa!!!!',\n",
       "       \"i don't know anymore\", 'fear and loathing'], dtype=object)"
      ]
     },
     "execution_count": 23,
     "metadata": {},
     "output_type": "execute_result"
    }
   ],
   "source": [
    "df['COUNTRY'].unique()"
   ]
  },
  {
   "cell_type": "code",
   "execution_count": 24,
   "metadata": {},
   "outputs": [
    {
     "data": {
      "text/plain": [
       "104"
      ]
     },
     "execution_count": 24,
     "metadata": {},
     "output_type": "execute_result"
    }
   ],
   "source": [
    "df['COUNTRY'].nunique()"
   ]
  },
  {
   "cell_type": "code",
   "execution_count": 25,
   "metadata": {},
   "outputs": [],
   "source": [
    "\n",
    "usa=['usa','usa ','us','murica','united states','united states ','united states of america','u.s.a.','usausausa','america','united states of america '\n",
    "    ,'unhinged states','us of a','unites states','the united states','unied states','u s','u.s.','the united states of america','unite states',\n",
    "    'usa? hard to tell anymore..', 'merica', 'usas','united state','new york','united sates','california','i pretend to be from canada, but i am really from the united states.',\n",
    "    'united stated','ahem....amerca','united ststes','united statss','usa! usa! usa!', 'usaa','alaska','n. america','ussa','u.s. ',\n",
    "    'u s a', 'united statea','usa usa usa!!!!','united staes',\"'merica\",'cascadia','trumpistan','USA']\n",
    "\n",
    "united_kindom=['uk','united kingdom','england','u.k. ','uk ','ireland','iceland','endland','ireland ']\n",
    "\n",
    "canada=['canada', 'canada ','can', 'canae','canada`' ]\n",
    "\n",
    "other=['35','north carolina ','europe','earth', 'pittsburgh', '45', '32', 'a', 'ud','46',\n",
    "      'atlantis', 'murrika','narnia', '1', 'subscribe to dm4uz3 on youtube', \"i don't know anymore\", 'fear and loathing','new jersey']\n",
    "for i in df['COUNTRY']:\n",
    "    if i in  usa:\n",
    "        df['COUNTRY'].replace(i,'usa',inplace=True)\n",
    "    elif i in united_kindom:\n",
    "        df['COUNTRY'].replace(i,'united kindom',inplace=True)\n",
    "    elif i in canada:\n",
    "        df['COUNTRY'].replace(i,'canada',inplace=True)\n",
    "    elif i in other:\n",
    "        df['COUNTRY'].replace(i,np.nan,inplace=True)\n",
    "df['COUNTRY'].replace('the netherlands','netherlands',inplace=True)\n",
    "df['COUNTRY'].replace('france ','france',inplace=True)\n",
    "df['COUNTRY'].replace('korea','south korea',inplace=True)        "
   ]
  },
  {
   "cell_type": "code",
   "execution_count": null,
   "metadata": {},
   "outputs": [],
   "source": []
  },
  {
   "cell_type": "code",
   "execution_count": 26,
   "metadata": {},
   "outputs": [
    {
     "data": {
      "text/plain": [
       "usa                   2110\n",
       "canada                 227\n",
       "united kindom           40\n",
       "germany                 10\n",
       "netherlands              7\n",
       "australia                7\n",
       "japan                    5\n",
       "mexico                   4\n",
       "scotland                 4\n",
       "switzerland              3\n",
       "france                   3\n",
       "south korea              2\n",
       "china                    2\n",
       "sweden                   2\n",
       "denmark                  2\n",
       "hong kong                2\n",
       "uae                      1\n",
       "south africa             1\n",
       "indonesia                1\n",
       "scotland                 1\n",
       "insanity lately          1\n",
       "taiwan                   1\n",
       "singapore                1\n",
       "soviet canuckistan       1\n",
       "spain                    1\n",
       "greece                   1\n",
       "finland                  1\n",
       "costa rica               1\n",
       "Name: COUNTRY, dtype: int64"
      ]
     },
     "execution_count": 26,
     "metadata": {},
     "output_type": "execute_result"
    }
   ],
   "source": [
    "df['COUNTRY'].value_counts()"
   ]
  },
  {
   "cell_type": "code",
   "execution_count": 27,
   "metadata": {},
   "outputs": [
    {
     "data": {
      "text/plain": [
       "array(['usa', 'canada', 'united kindom', 'uae', 'mexico', nan, 'france',\n",
       "       'finland', 'netherlands', 'germany', 'costa rica', 'australia',\n",
       "       'insanity lately', 'greece', 'south korea', 'japan',\n",
       "       'south africa', 'scotland', 'denmark', 'switzerland', 'scotland ',\n",
       "       'indonesia', 'soviet canuckistan', 'singapore', 'china', 'taiwan',\n",
       "       'hong kong', 'spain', 'sweden'], dtype=object)"
      ]
     },
     "execution_count": 27,
     "metadata": {},
     "output_type": "execute_result"
    }
   ],
   "source": [
    "df['COUNTRY'].unique()"
   ]
  },
  {
   "cell_type": "code",
   "execution_count": 28,
   "metadata": {},
   "outputs": [],
   "source": [
    "df['COUNTRY'].dropna(inplace=True)"
   ]
  },
  {
   "cell_type": "code",
   "execution_count": 29,
   "metadata": {},
   "outputs": [],
   "source": [
    "#df['COUNTRY'].head(60)"
   ]
  },
  {
   "cell_type": "code",
   "execution_count": 30,
   "metadata": {},
   "outputs": [
    {
     "data": {
      "text/plain": [
       "(2460, 20)"
      ]
     },
     "execution_count": 30,
     "metadata": {},
     "output_type": "execute_result"
    }
   ],
   "source": [
    "df.shape"
   ]
  },
  {
   "cell_type": "code",
   "execution_count": 31,
   "metadata": {},
   "outputs": [
    {
     "data": {
      "text/plain": [
       "28"
      ]
     },
     "execution_count": 31,
     "metadata": {},
     "output_type": "execute_result"
    }
   ],
   "source": [
    "df['COUNTRY'].nunique()"
   ]
  },
  {
   "cell_type": "code",
   "execution_count": 32,
   "metadata": {},
   "outputs": [],
   "source": [
    "df['GENDER'].replace(\"i'd rather not say\",'other',inplace=True)"
   ]
  },
  {
   "cell_type": "code",
   "execution_count": 33,
   "metadata": {},
   "outputs": [
    {
     "data": {
      "text/plain": [
       "male      1508\n",
       "female     839\n",
       "other      113\n",
       "Name: GENDER, dtype: int64"
      ]
     },
     "execution_count": 33,
     "metadata": {},
     "output_type": "execute_result"
    }
   ],
   "source": [
    "df['GENDER'].value_counts()"
   ]
  },
  {
   "cell_type": "code",
   "execution_count": 34,
   "metadata": {},
   "outputs": [
    {
     "data": {
      "text/plain": [
       "Index(['GOING OUT?', 'GENDER', 'AGE', 'COUNTRY', 'Any full-sized candy bar',\n",
       "       'Box'o'Raisins', 'Butterfinger', 'Cadbury Creme Eggs', 'Candy Corn',\n",
       "       'Cash, or other forms of legal tender', 'Hershey's Dark Chocolate',\n",
       "       'Hershey’s Milk Chocolate', 'Hershey's Kisses', 'Kit Kat',\n",
       "       'Licorice (not black)', 'Licorice (yes black)', 'Milky Way',\n",
       "       'Regular M&Ms', 'Peanut M&M’s', 'Reese’s Peanut Butter Cups'],\n",
       "      dtype='object')"
      ]
     },
     "execution_count": 34,
     "metadata": {},
     "output_type": "execute_result"
    }
   ],
   "source": [
    "df.columns"
   ]
  },
  {
   "cell_type": "code",
   "execution_count": 35,
   "metadata": {},
   "outputs": [
    {
     "data": {
      "text/plain": [
       "array(['40', '44', '49', '23', '53', '33', '43', '56', '64', '37', '59',\n",
       "       '48', '54', '36', '45', '25', '34', '35', '38', '58', '50', '47',\n",
       "       '16', '52', '63', '65', '41', '27', '31', '61', '46', '42', '62',\n",
       "       '29', '39', '32', '28', '69', '67', '30', '22', '26', '51', '70',\n",
       "       '24', '18', '19', 'old enough', '57', '60', '66', '12', 'many',\n",
       "       '55', '72', '?', '21', '11', 'no', '9', '68', '20', '6', '10',\n",
       "       '71', '90', '13', '45-55', '312', '99', '7', 'hahahahaha', '88',\n",
       "       '39.4', '74', '102', 'older than dirt', '17', '15', '8', '75',\n",
       "       '5u', 'enough', 'see question 2', '24-50', '14', 'over 50', '100',\n",
       "       '76', '1000', 'sixty-nine', '46 halloweens.', 'ancient', '77',\n",
       "       'old', '73', '70.5', '1', 'my name jeff', '4',\n",
       "       '59 on the day after halloween', 'your mom',\n",
       "       'i can remember when java was a cool new language', '60+'],\n",
       "      dtype=object)"
      ]
     },
     "execution_count": 35,
     "metadata": {},
     "output_type": "execute_result"
    }
   ],
   "source": [
    "df['AGE'].unique()\n"
   ]
  },
  {
   "cell_type": "code",
   "execution_count": 36,
   "metadata": {},
   "outputs": [],
   "source": [
    "df['AGE']=pd.to_numeric(df['AGE'], errors='coerce')"
   ]
  },
  {
   "cell_type": "code",
   "execution_count": 37,
   "metadata": {},
   "outputs": [],
   "source": [
    "df['AGE'].dropna(inplace=True)"
   ]
  },
  {
   "cell_type": "code",
   "execution_count": 38,
   "metadata": {},
   "outputs": [
    {
     "data": {
      "text/plain": [
       "array([  40. ,   44. ,   49. ,   23. ,   53. ,   33. ,   43. ,   56. ,\n",
       "         64. ,   37. ,   59. ,   48. ,   54. ,   36. ,   45. ,   25. ,\n",
       "         34. ,   35. ,   38. ,   58. ,   50. ,   47. ,   16. ,   52. ,\n",
       "         63. ,   65. ,   41. ,   27. ,   31. ,   61. ,   46. ,   42. ,\n",
       "         62. ,   29. ,   39. ,   32. ,   28. ,   69. ,   67. ,   30. ,\n",
       "         22. ,   26. ,   51. ,   70. ,   24. ,   18. ,   19. ,   57. ,\n",
       "         60. ,   66. ,   12. ,   55. ,   72. ,   21. ,   11. ,    9. ,\n",
       "         68. ,   20. ,    6. ,   10. ,   71. ,   90. ,   13. ,  312. ,\n",
       "         99. ,    7. ,   88. ,   39.4,   74. ,  102. ,   17. ,   15. ,\n",
       "          8. ,   75. ,   14. ,  100. ,   76. , 1000. ,   77. ,   73. ,\n",
       "         70.5,    1. ,    4. ])"
      ]
     },
     "execution_count": 38,
     "metadata": {},
     "output_type": "execute_result"
    }
   ],
   "source": [
    "df['AGE'].unique()\n"
   ]
  },
  {
   "cell_type": "code",
   "execution_count": 39,
   "metadata": {},
   "outputs": [],
   "source": [
    "labels = [\"{0} - {1}\".format(i, i + 9) for i in range(0, 100, 10)]"
   ]
  },
  {
   "cell_type": "code",
   "execution_count": 40,
   "metadata": {},
   "outputs": [],
   "source": [
    "df['group'] = pd.cut(df.AGE, range(0, 105, 10), right=False, labels=labels)"
   ]
  },
  {
   "cell_type": "code",
   "execution_count": 41,
   "metadata": {},
   "outputs": [
    {
     "data": {
      "text/html": [
       "<div>\n",
       "<style scoped>\n",
       "    .dataframe tbody tr th:only-of-type {\n",
       "        vertical-align: middle;\n",
       "    }\n",
       "\n",
       "    .dataframe tbody tr th {\n",
       "        vertical-align: top;\n",
       "    }\n",
       "\n",
       "    .dataframe thead th {\n",
       "        text-align: right;\n",
       "    }\n",
       "</style>\n",
       "<table border=\"1\" class=\"dataframe\">\n",
       "  <thead>\n",
       "    <tr style=\"text-align: right;\">\n",
       "      <th></th>\n",
       "      <th>GOING OUT?</th>\n",
       "      <th>GENDER</th>\n",
       "      <th>AGE</th>\n",
       "      <th>COUNTRY</th>\n",
       "      <th>Any full-sized candy bar</th>\n",
       "      <th>Box'o'Raisins</th>\n",
       "      <th>Butterfinger</th>\n",
       "      <th>Cadbury Creme Eggs</th>\n",
       "      <th>Candy Corn</th>\n",
       "      <th>Cash, or other forms of legal tender</th>\n",
       "      <th>...</th>\n",
       "      <th>Hershey’s Milk Chocolate</th>\n",
       "      <th>Hershey's Kisses</th>\n",
       "      <th>Kit Kat</th>\n",
       "      <th>Licorice (not black)</th>\n",
       "      <th>Licorice (yes black)</th>\n",
       "      <th>Milky Way</th>\n",
       "      <th>Regular M&amp;Ms</th>\n",
       "      <th>Peanut M&amp;M’s</th>\n",
       "      <th>Reese’s Peanut Butter Cups</th>\n",
       "      <th>group</th>\n",
       "    </tr>\n",
       "  </thead>\n",
       "  <tbody>\n",
       "    <tr>\n",
       "      <td>0</td>\n",
       "      <td>no</td>\n",
       "      <td>male</td>\n",
       "      <td>40.0</td>\n",
       "      <td>usa</td>\n",
       "      <td>joy</td>\n",
       "      <td>despair</td>\n",
       "      <td>joy</td>\n",
       "      <td>joy</td>\n",
       "      <td>despair</td>\n",
       "      <td>joy</td>\n",
       "      <td>...</td>\n",
       "      <td>joy</td>\n",
       "      <td>joy</td>\n",
       "      <td>joy</td>\n",
       "      <td>meh</td>\n",
       "      <td>despair</td>\n",
       "      <td>joy</td>\n",
       "      <td>joy</td>\n",
       "      <td>joy</td>\n",
       "      <td>joy</td>\n",
       "      <td>40 - 49</td>\n",
       "    </tr>\n",
       "    <tr>\n",
       "      <td>1</td>\n",
       "      <td>no</td>\n",
       "      <td>male</td>\n",
       "      <td>44.0</td>\n",
       "      <td>usa</td>\n",
       "      <td>joy</td>\n",
       "      <td>despair</td>\n",
       "      <td>despair</td>\n",
       "      <td>meh</td>\n",
       "      <td>meh</td>\n",
       "      <td>joy</td>\n",
       "      <td>...</td>\n",
       "      <td>joy</td>\n",
       "      <td>meh</td>\n",
       "      <td>joy</td>\n",
       "      <td>meh</td>\n",
       "      <td>joy</td>\n",
       "      <td>joy</td>\n",
       "      <td>joy</td>\n",
       "      <td>meh</td>\n",
       "      <td>joy</td>\n",
       "      <td>40 - 49</td>\n",
       "    </tr>\n",
       "    <tr>\n",
       "      <td>2</td>\n",
       "      <td>no</td>\n",
       "      <td>male</td>\n",
       "      <td>49.0</td>\n",
       "      <td>usa</td>\n",
       "      <td>joy</td>\n",
       "      <td>despair</td>\n",
       "      <td>joy</td>\n",
       "      <td>joy</td>\n",
       "      <td>despair</td>\n",
       "      <td>joy</td>\n",
       "      <td>...</td>\n",
       "      <td>joy</td>\n",
       "      <td>joy</td>\n",
       "      <td>joy</td>\n",
       "      <td>meh</td>\n",
       "      <td>despair</td>\n",
       "      <td>joy</td>\n",
       "      <td>joy</td>\n",
       "      <td>joy</td>\n",
       "      <td>joy</td>\n",
       "      <td>40 - 49</td>\n",
       "    </tr>\n",
       "    <tr>\n",
       "      <td>3</td>\n",
       "      <td>no</td>\n",
       "      <td>male</td>\n",
       "      <td>40.0</td>\n",
       "      <td>usa</td>\n",
       "      <td>joy</td>\n",
       "      <td>despair</td>\n",
       "      <td>meh</td>\n",
       "      <td>meh</td>\n",
       "      <td>despair</td>\n",
       "      <td>joy</td>\n",
       "      <td>...</td>\n",
       "      <td>meh</td>\n",
       "      <td>meh</td>\n",
       "      <td>meh</td>\n",
       "      <td>meh</td>\n",
       "      <td>joy</td>\n",
       "      <td>joy</td>\n",
       "      <td>meh</td>\n",
       "      <td>joy</td>\n",
       "      <td>joy</td>\n",
       "      <td>40 - 49</td>\n",
       "    </tr>\n",
       "    <tr>\n",
       "      <td>4</td>\n",
       "      <td>no</td>\n",
       "      <td>male</td>\n",
       "      <td>23.0</td>\n",
       "      <td>usa</td>\n",
       "      <td>joy</td>\n",
       "      <td>despair</td>\n",
       "      <td>meh</td>\n",
       "      <td>meh</td>\n",
       "      <td>despair</td>\n",
       "      <td>meh</td>\n",
       "      <td>...</td>\n",
       "      <td>meh</td>\n",
       "      <td>meh</td>\n",
       "      <td>joy</td>\n",
       "      <td>meh</td>\n",
       "      <td>despair</td>\n",
       "      <td>joy</td>\n",
       "      <td>joy</td>\n",
       "      <td>joy</td>\n",
       "      <td>joy</td>\n",
       "      <td>20 - 29</td>\n",
       "    </tr>\n",
       "  </tbody>\n",
       "</table>\n",
       "<p>5 rows × 21 columns</p>\n",
       "</div>"
      ],
      "text/plain": [
       "  GOING OUT? GENDER   AGE COUNTRY Any full-sized candy bar Box'o'Raisins  \\\n",
       "0         no   male  40.0     usa                      joy       despair   \n",
       "1         no   male  44.0     usa                      joy       despair   \n",
       "2         no   male  49.0     usa                      joy       despair   \n",
       "3         no   male  40.0     usa                      joy       despair   \n",
       "4         no   male  23.0     usa                      joy       despair   \n",
       "\n",
       "  Butterfinger Cadbury Creme Eggs Candy Corn  \\\n",
       "0          joy                joy    despair   \n",
       "1      despair                meh        meh   \n",
       "2          joy                joy    despair   \n",
       "3          meh                meh    despair   \n",
       "4          meh                meh    despair   \n",
       "\n",
       "  Cash, or other forms of legal tender  ... Hershey’s Milk Chocolate  \\\n",
       "0                                  joy  ...                      joy   \n",
       "1                                  joy  ...                      joy   \n",
       "2                                  joy  ...                      joy   \n",
       "3                                  joy  ...                      meh   \n",
       "4                                  meh  ...                      meh   \n",
       "\n",
       "  Hershey's Kisses Kit Kat Licorice (not black) Licorice (yes black)  \\\n",
       "0              joy     joy                  meh              despair   \n",
       "1              meh     joy                  meh                  joy   \n",
       "2              joy     joy                  meh              despair   \n",
       "3              meh     meh                  meh                  joy   \n",
       "4              meh     joy                  meh              despair   \n",
       "\n",
       "  Milky Way Regular M&Ms Peanut M&M’s Reese’s Peanut Butter Cups    group  \n",
       "0       joy          joy          joy                        joy  40 - 49  \n",
       "1       joy          joy          meh                        joy  40 - 49  \n",
       "2       joy          joy          joy                        joy  40 - 49  \n",
       "3       joy          meh          joy                        joy  40 - 49  \n",
       "4       joy          joy          joy                        joy  20 - 29  \n",
       "\n",
       "[5 rows x 21 columns]"
      ]
     },
     "execution_count": 41,
     "metadata": {},
     "output_type": "execute_result"
    }
   ],
   "source": [
    "df.head()"
   ]
  },
  {
   "cell_type": "markdown",
   "metadata": {},
   "source": [
    "# Data Visulization"
   ]
  },
  {
   "cell_type": "code",
   "execution_count": 42,
   "metadata": {},
   "outputs": [
    {
     "data": {
      "text/plain": [
       "<matplotlib.axes._subplots.AxesSubplot at 0x2a9b8acbe88>"
      ]
     },
     "execution_count": 42,
     "metadata": {},
     "output_type": "execute_result"
    },
    {
     "data": {
      "image/png": "[encoded data removed]",
      "text/plain": [
       "<Figure size 432x288 with 1 Axes>"
      ]
     },
     "metadata": {
      "needs_background": "light"
     },
     "output_type": "display_data"
    }
   ],
   "source": [
    "sns.countplot(x='GOING OUT?',data=df,hue='Butterfinger')\n",
    "\n"
   ]
  },
  {
   "cell_type": "code",
   "execution_count": 43,
   "metadata": {},
   "outputs": [
    {
     "data": {
      "image/png": "[encoded data removed]",
      "text/plain": [
       "<Figure size 432x288 with 1 Axes>"
      ]
     },
     "metadata": {
      "needs_background": "light"
     },
     "output_type": "display_data"
    }
   ],
   "source": [
    "\n",
    "sns.countplot(x='COUNTRY',data=df,hue='Butterfinger')\n",
    "plt.xticks(rotation=90)\n",
    "plt.yscale('log')"
   ]
  },
  {
   "cell_type": "code",
   "execution_count": 44,
   "metadata": {},
   "outputs": [
    {
     "data": {
      "text/plain": [
       "(array([0, 1, 2, 3, 4, 5, 6, 7, 8, 9]), <a list of 10 Text xticklabel objects>)"
      ]
     },
     "execution_count": 44,
     "metadata": {},
     "output_type": "execute_result"
    },
    {
     "data": {
      "image/png": "[encoded data removed]",
      "text/plain": [
       "<Figure size 432x288 with 1 Axes>"
      ]
     },
     "metadata": {
      "needs_background": "light"
     },
     "output_type": "display_data"
    }
   ],
   "source": [
    "\n",
    "sns.countplot(x='group',data=df,hue= 'Candy Corn')\n",
    "plt.xticks(rotation=90)"
   ]
  },
  {
   "cell_type": "code",
   "execution_count": 45,
   "metadata": {},
   "outputs": [
    {
     "data": {
      "text/plain": [
       "<matplotlib.axes._subplots.AxesSubplot at 0x2a9b962cb08>"
      ]
     },
     "execution_count": 45,
     "metadata": {},
     "output_type": "execute_result"
    },
    {
     "data": {
      "image/png": "[encoded data removed]",
      "text/plain": [
       "<Figure size 432x288 with 1 Axes>"
      ]
     },
     "metadata": {
      "needs_background": "light"
     },
     "output_type": "display_data"
    }
   ],
   "source": [
    "df['COUNTRY'].value_counts().plot.bar()"
   ]
  },
  {
   "cell_type": "code",
   "execution_count": 46,
   "metadata": {},
   "outputs": [],
   "source": [
    "def plot_count(x,fig):\n",
    "    plt.subplot(4,2,fig)\n",
    "    plt.title(x+' Histogram')\n",
    "    sns.countplot(x,data=df)\n",
    "    plt.subplot(4,2,fig+1)\n",
    "    plt.title(x+'per group')\n",
    "    sns.countplot(hue=x,y='group',data=df)"
   ]
  },
  {
   "cell_type": "code",
   "execution_count": 47,
   "metadata": {
    "scrolled": false
   },
   "outputs": [
    {
     "data": {
      "image/png": "[encoded data removed]",
      "text/plain": [
       "<Figure size 1440x1440 with 8 Axes>"
      ]
     },
     "metadata": {
      "needs_background": "light"
     },
     "output_type": "display_data"
    }
   ],
   "source": [
    "plt.figure(figsize=(20,20))\n",
    "plot_count('Candy Corn',1)\n",
    "plot_count(\"Box'o'Raisins\",3)\n",
    "plot_count('Any full-sized candy bar',5)\n",
    "plot_count('Licorice (yes black)',7)\n",
    "\n"
   ]
  },
  {
   "cell_type": "code",
   "execution_count": 48,
   "metadata": {},
   "outputs": [
    {
     "data": {
      "image/png": "[encoded data removed]",
      "text/plain": [
       "<Figure size 1440x1440 with 2 Axes>"
      ]
     },
     "metadata": {
      "needs_background": "light"
     },
     "output_type": "display_data"
    }
   ],
   "source": [
    "plt.figure(figsize=(20,20))\n",
    "plot_count('GENDER',1)"
   ]
  },
  {
   "cell_type": "code",
   "execution_count": null,
   "metadata": {},
   "outputs": [],
   "source": []
  },
  {
   "cell_type": "code",
   "execution_count": null,
   "metadata": {},
   "outputs": [],
   "source": []
  },
  {
   "cell_type": "code",
   "execution_count": null,
   "metadata": {},
   "outputs": [],
   "source": []
  }
 ],
 "metadata": {
  "kernelspec": {
   "display_name": "Python 3",
   "language": "python",
   "name": "python3"
  },
  "language_info": {
   "codemirror_mode": {
    "name": "ipython",
    "version": 3
   },
   "file_extension": ".py",
   "mimetype": "text/x-python",
   "name": "python",
   "nbconvert_exporter": "python",
   "pygments_lexer": "ipython3",
   "version": "3.7.4"
  }
 },
 "nbformat": 4,
 "nbformat_minor": 2
}
